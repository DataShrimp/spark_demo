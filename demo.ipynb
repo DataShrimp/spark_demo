{
 "cells": [
  {
   "cell_type": "markdown",
   "metadata": {},
   "source": [
    "# Avazu Click-Through Rate Prediction\n",
    "Kaggle web site: https://www.kaggle.com/c/avazu-ctr-prediction"
   ]
  },
  {
   "cell_type": "code",
   "execution_count": 1,
   "metadata": {},
   "outputs": [],
   "source": [
    "from pyspark import SparkContext\n",
    "from pyspark.mllib.regression import LabeledPoint\n",
    "from pyspark.mllib.tree import GradientBoostedTrees\n",
    "from time import time"
   ]
  },
  {
   "cell_type": "code",
   "execution_count": 2,
   "metadata": {},
   "outputs": [
    {
     "data": {
      "text/plain": [
       "40428967"
      ]
     },
     "execution_count": 2,
     "metadata": {},
     "output_type": "execute_result"
    }
   ],
   "source": [
    "# 初始化Spark\n",
    "sc = SparkContext()\n",
    "# 读入数据\n",
    "ctr_rdd = sc.textFile(\"train\")\n",
    "# 去除第一行\n",
    "header = ctr_rdd.first()\n",
    "all_rdd = ctr_rdd.filter(lambda x:x!=header)\n",
    "# 数据个数\n",
    "all_rdd.count()"
   ]
  },
  {
   "cell_type": "code",
   "execution_count": 3,
   "metadata": {},
   "outputs": [
    {
     "data": {
      "text/plain": [
       "40600"
      ]
     },
     "execution_count": 3,
     "metadata": {},
     "output_type": "execute_result"
    }
   ],
   "source": [
    "# 采样减少以便单机可计算运行\n",
    "sample_rdd = all_rdd.sample(False, 0.001, 123)\n",
    "sample_rdd.count()"
   ]
  },
  {
   "cell_type": "code",
   "execution_count": 4,
   "metadata": {},
   "outputs": [
    {
     "data": {
      "text/plain": [
       "32517"
      ]
     },
     "execution_count": 4,
     "metadata": {},
     "output_type": "execute_result"
    }
   ],
   "source": [
    "# 划分训练集（80%比例）和测试集（20%）\n",
    "train_test_rdd = sample_rdd.randomSplit((0.8, 0.2))\n",
    "train_rdd = train_test_rdd[0]\n",
    "test_rdd = train_test_rdd[1]\n",
    "train_rdd.count()"
   ]
  },
  {
   "cell_type": "code",
   "execution_count": 5,
   "metadata": {},
   "outputs": [
    {
     "data": {
      "text/plain": [
       "'10445426567380108283,0,14102100,1002,0,2c4ed2f7,c4e18dd6,50e219e0,ecad2386,7801e8d9,07d7df22,6598e836,32ff2d84,44b1eaab,0,0,19665,320,50,2253,2,303,-1,52'"
      ]
     },
     "execution_count": 5,
     "metadata": {},
     "output_type": "execute_result"
    }
   ],
   "source": [
    "# 数据形式展示\n",
    "train_rdd.first()"
   ]
  },
  {
   "cell_type": "code",
   "execution_count": 6,
   "metadata": {},
   "outputs": [
    {
     "data": {
      "text/plain": [
       "('10445426567380108283::0',\n",
       " ['2c4ed2f7',\n",
       "  'c4e18dd6',\n",
       "  '50e219e0',\n",
       "  'ecad2386',\n",
       "  '7801e8d9',\n",
       "  '07d7df22',\n",
       "  '6598e836',\n",
       "  '32ff2d84',\n",
       "  '44b1eaab'],\n",
       " ['0', '19665', '320', '50', '2253', '2', '303', '-1', '52'])"
      ]
     },
     "execution_count": 6,
     "metadata": {},
     "output_type": "execute_result"
    }
   ],
   "source": [
    "# 数据预处理，生成（Key，V_C, V_N）格式\n",
    "def data_prepare(line):\n",
    "    tokens = line.split(\",\")\n",
    "    key = tokens[0] + \"::\" + tokens[1]\n",
    "    vc = tokens[5:14]\n",
    "    vn = tokens[15:]\n",
    "    return (key, vc, vn)\n",
    "\n",
    "train_kv = train_rdd.map(data_prepare)\n",
    "test_kv = test_rdd.map(data_prepare)\n",
    "train_kv.first()"
   ]
  },
  {
   "cell_type": "code",
   "execution_count": 7,
   "metadata": {
    "scrolled": false
   },
   "outputs": [
    {
     "data": {
      "text/plain": [
       "[(0, '2c4ed2f7'),\n",
       " (1, 'c4e18dd6'),\n",
       " (2, '50e219e0'),\n",
       " (3, 'ecad2386'),\n",
       " (4, '7801e8d9'),\n",
       " (5, '07d7df22'),\n",
       " (6, '6598e836'),\n",
       " (7, '32ff2d84'),\n",
       " (8, '44b1eaab')]"
      ]
     },
     "execution_count": 7,
     "metadata": {},
     "output_type": "execute_result"
    }
   ],
   "source": [
    "# 处理分类数据\n",
    "def parseCatFeatures(x):\n",
    "    featureList = []\n",
    "    for i in range(len(x[1])):\n",
    "        featureList.append((i, x[1][i]))\n",
    "    return featureList\n",
    "\n",
    "train_cat = train_kv.map(parseCatFeatures)\n",
    "test_cat = test_kv.map(parseCatFeatures)\n",
    "train_cat.first()"
   ]
  },
  {
   "cell_type": "code",
   "execution_count": 8,
   "metadata": {},
   "outputs": [
    {
     "data": {
      "text/plain": [
       "38148"
      ]
     },
     "execution_count": 8,
     "metadata": {},
     "output_type": "execute_result"
    }
   ],
   "source": [
    "# 分类特征做one hot encoding\n",
    "oneMap = train_cat.flatMap(lambda x:x).distinct().zipWithIndex().collectAsMap()\n",
    "len(oneMap)"
   ]
  },
  {
   "cell_type": "code",
   "execution_count": 9,
   "metadata": {},
   "outputs": [
    {
     "data": {
      "text/plain": [
       "LabeledPoint(0.0, [15561.0,26740.0,2210.0,8651.0,31448.0,3437.0,17168.0,27401.0,25083.0,0.0,19665.0,320.0,50.0,2253.0,2.0,303.0,-1.0,52.0])"
      ]
     },
     "execution_count": 9,
     "metadata": {},
     "output_type": "execute_result"
    }
   ],
   "source": [
    "# 输出Spark LabeledPoint特征\n",
    "def featureProcess(x):\n",
    "    cat_feature_indexed = []\n",
    "    for i in range(len(x[1])):\n",
    "        cat_feature_indexed.append((i, x[1][i]))\n",
    "    cat_feature_ohe = []\n",
    "    for k in cat_feature_indexed:\n",
    "        if k in oneMap:\n",
    "            cat_feature_ohe.append(oneMap.get(k))\n",
    "        else:\n",
    "            cat_feature_ohe.append(0)\n",
    "    num_feature = [float(y) for y in x[2]]\n",
    "    return LabeledPoint(int(x[0].split(\"::\")[1]), cat_feature_ohe + num_feature)\n",
    "\n",
    "train = train_kv.map(featureProcess)\n",
    "test = test_kv.map(featureProcess)\n",
    "train.first()"
   ]
  },
  {
   "cell_type": "code",
   "execution_count": 10,
   "metadata": {},
   "outputs": [
    {
     "data": {
      "text/plain": [
       "100"
      ]
     },
     "execution_count": 10,
     "metadata": {},
     "output_type": "execute_result"
    }
   ],
   "source": [
    "# 使用GBDT方法进行训练\n",
    "model = GradientBoostedTrees.trainClassifier(train, {})\n",
    "model.numTrees()"
   ]
  },
  {
   "cell_type": "code",
   "execution_count": 11,
   "metadata": {},
   "outputs": [
    {
     "name": "stdout",
     "output_type": "stream",
     "text": [
      "0.0 0.0\n"
     ]
    }
   ],
   "source": [
    "# 预测实验（由于做了简化，此处不评估预测结果）\n",
    "temp = test.first()\n",
    "pred = model.predict(temp.features)\n",
    "print(temp.label, pred)"
   ]
  }
 ],
 "metadata": {
  "kernelspec": {
   "display_name": "Python 3",
   "language": "python",
   "name": "python3"
  },
  "language_info": {
   "codemirror_mode": {
    "name": "ipython",
    "version": 3
   },
   "file_extension": ".py",
   "mimetype": "text/x-python",
   "name": "python",
   "nbconvert_exporter": "python",
   "pygments_lexer": "ipython3",
   "version": "3.6.5"
  }
 },
 "nbformat": 4,
 "nbformat_minor": 2
}
